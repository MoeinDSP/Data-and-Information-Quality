{
  "nbformat": 4,
  "nbformat_minor": 0,
  "metadata": {
    "colab": {
      "provenance": [],
      "toc_visible": true,
      "gpuType": "T4",
      "mount_file_id": "12NHCnL62ulXW7bEtVxBt1crovkzk6A4u",
      "authorship_tag": "ABX9TyOswEIBwdJNdLuia0kfXSY0",
      "include_colab_link": true
    },
    "kernelspec": {
      "name": "python3",
      "display_name": "Python 3"
    },
    "language_info": {
      "name": "python"
    },
    "accelerator": "GPU",
  },
  "cells": [
    {
      "cell_type": "markdown",
      "metadata": {
        "id": "view-in-github",
        "colab_type": "text"
      },
      "source": [
        "<a href=\"https://colab.research.google.com/github/MoeinDSP/Data-and-Information-Quality/blob/main/2_Data_Profiling.ipynb\" target=\"_parent\"><img src=\"https://colab.research.google.com/assets/colab-badge.svg\" alt=\"Open In Colab\"/></a>"
      ]
    },
    {
      "cell_type": "code",
      "execution_count": 1,
      "metadata": {
        "colab": {
          "base_uri": "https://localhost:8080/"
        },
        "id": "bVxXh4mNumOf",
        "outputId": "41493644-075f-4ab2-eeb9-6e80235f4b71"
      },
      "outputs": [
        {
          "output_type": "stream",
          "name": "stdout",
          "text": [
            "Collecting lux-api\n",
            "  Downloading lux-api-0.5.1.tar.gz (127 kB)\n",
            "\u001b[?25l     \u001b[90m━━━━━━━━━━━━━━━━━━━━━━━━━━━━━━━━━━━━━━━━\u001b[0m \u001b[32m0.0/127.0 kB\u001b[0m \u001b[31m?\u001b[0m eta \u001b[36m-:--:--\u001b[0m\r\u001b[2K     \u001b[90m━━━━━━━━━━━━━━━━━━━━━━━━━━━━━━━━━━━━━━━\u001b[0m \u001b[32m127.0/127.0 kB\u001b[0m \u001b[31m5.5 MB/s\u001b[0m eta \u001b[36m0:00:00\u001b[0m\n",
            "\u001b[?25h  Installing build dependencies ... \u001b[?25l\u001b[?25hdone\n",
            "  Getting requirements to build wheel ... \u001b[?25l\u001b[?25hdone\n",
            "  Preparing metadata (pyproject.toml) ... \u001b[?25l\u001b[?25hdone\n",
            "Requirement already satisfied: plotly in /usr/local/lib/python3.12/dist-packages (5.24.1)\n",
            "Requirement already satisfied: matplotlib in /usr/local/lib/python3.12/dist-packages (3.10.0)\n",
            "Requirement already satisfied: scipy>=1.3.3 in /usr/local/lib/python3.12/dist-packages (from lux-api) (1.16.2)\n",
            "Requirement already satisfied: altair>=4.0.0 in /usr/local/lib/python3.12/dist-packages (from lux-api) (5.5.0)\n",
            "Requirement already satisfied: numpy>=1.16.5 in /usr/local/lib/python3.12/dist-packages (from lux-api) (2.0.2)\n",
            "Requirement already satisfied: pandas in /usr/local/lib/python3.12/dist-packages (from lux-api) (2.2.2)\n",
            "Requirement already satisfied: scikit-learn>=0.22 in /usr/local/lib/python3.12/dist-packages (from lux-api) (1.6.1)\n",
            "Collecting lux-widget>=0.1.4 (from lux-api)\n",
            "  Downloading lux-widget-0.1.11.tar.gz (2.5 MB)\n",
            "\u001b[2K     \u001b[90m━━━━━━━━━━━━━━━━━━━━━━━━━━━━━━━━━━━━━━━━\u001b[0m \u001b[32m2.5/2.5 MB\u001b[0m \u001b[31m59.9 MB/s\u001b[0m eta \u001b[36m0:00:00\u001b[0m\n",
            "\u001b[?25h  Preparing metadata (setup.py) ... \u001b[?25l\u001b[?25hdone\n",
            "Collecting autopep8>=1.5 (from lux-api)\n",
            "  Downloading autopep8-2.3.2-py2.py3-none-any.whl.metadata (16 kB)\n",
            "Collecting iso3166 (from lux-api)\n",
            "  Downloading iso3166-2.1.1-py3-none-any.whl.metadata (6.6 kB)\n",
            "Requirement already satisfied: psutil>=5.9.0 in /usr/local/lib/python3.12/dist-packages (from lux-api) (5.9.5)\n",
            "Collecting sh (from lux-api)\n",
            "  Downloading sh-2.2.2-py3-none-any.whl.metadata (3.7 kB)\n",
            "Requirement already satisfied: tenacity>=6.2.0 in /usr/local/lib/python3.12/dist-packages (from plotly) (8.5.0)\n",
            "Requirement already satisfied: packaging in /usr/local/lib/python3.12/dist-packages (from plotly) (25.0)\n",
            "Requirement already satisfied: contourpy>=1.0.1 in /usr/local/lib/python3.12/dist-packages (from matplotlib) (1.3.3)\n",
            "Requirement already satisfied: cycler>=0.10 in /usr/local/lib/python3.12/dist-packages (from matplotlib) (0.12.1)\n",
            "Requirement already satisfied: fonttools>=4.22.0 in /usr/local/lib/python3.12/dist-packages (from matplotlib) (4.60.1)\n",
            "Requirement already satisfied: kiwisolver>=1.3.1 in /usr/local/lib/python3.12/dist-packages (from matplotlib) (1.4.9)\n",
            "Requirement already satisfied: pillow>=8 in /usr/local/lib/python3.12/dist-packages (from matplotlib) (11.3.0)\n",
            "Requirement already satisfied: pyparsing>=2.3.1 in /usr/local/lib/python3.12/dist-packages (from matplotlib) (3.2.5)\n",
            "Requirement already satisfied: python-dateutil>=2.7 in /usr/local/lib/python3.12/dist-packages (from matplotlib) (2.9.0.post0)\n",
            "Requirement already satisfied: jinja2 in /usr/local/lib/python3.12/dist-packages (from altair>=4.0.0->lux-api) (3.1.6)\n",
            "Requirement already satisfied: jsonschema>=3.0 in /usr/local/lib/python3.12/dist-packages (from altair>=4.0.0->lux-api) (4.25.1)\n",
            "Requirement already satisfied: narwhals>=1.14.2 in /usr/local/lib/python3.12/dist-packages (from altair>=4.0.0->lux-api) (2.9.0)\n",
            "Requirement already satisfied: typing-extensions>=4.10.0 in /usr/local/lib/python3.12/dist-packages (from altair>=4.0.0->lux-api) (4.15.0)\n",
            "Collecting pycodestyle>=2.12.0 (from autopep8>=1.5->lux-api)\n",
            "  Downloading pycodestyle-2.14.0-py2.py3-none-any.whl.metadata (4.5 kB)\n",
            "Requirement already satisfied: notebook>=4.0.0 in /usr/local/lib/python3.12/dist-packages (from lux-widget>=0.1.4->lux-api) (6.5.7)\n",
            "Requirement already satisfied: ipywidgets>=7.5.0 in /usr/local/lib/python3.12/dist-packages (from lux-widget>=0.1.4->lux-api) (7.7.1)\n",
            "Requirement already satisfied: six>=1.5 in /usr/local/lib/python3.12/dist-packages (from python-dateutil>=2.7->matplotlib) (1.17.0)\n",
            "Requirement already satisfied: joblib>=1.2.0 in /usr/local/lib/python3.12/dist-packages (from scikit-learn>=0.22->lux-api) (1.5.2)\n",
            "Requirement already satisfied: threadpoolctl>=3.1.0 in /usr/local/lib/python3.12/dist-packages (from scikit-learn>=0.22->lux-api) (3.6.0)\n",
            "Requirement already satisfied: pytz>=2020.1 in /usr/local/lib/python3.12/dist-packages (from pandas->lux-api) (2025.2)\n",
            "Requirement already satisfied: tzdata>=2022.7 in /usr/local/lib/python3.12/dist-packages (from pandas->lux-api) (2025.2)\n",
            "Requirement already satisfied: ipykernel>=4.5.1 in /usr/local/lib/python3.12/dist-packages (from ipywidgets>=7.5.0->lux-widget>=0.1.4->lux-api) (6.17.1)\n",
            "Requirement already satisfied: ipython-genutils~=0.2.0 in /usr/local/lib/python3.12/dist-packages (from ipywidgets>=7.5.0->lux-widget>=0.1.4->lux-api) (0.2.0)\n",
            "Requirement already satisfied: traitlets>=4.3.1 in /usr/local/lib/python3.12/dist-packages (from ipywidgets>=7.5.0->lux-widget>=0.1.4->lux-api) (5.7.1)\n",
            "Requirement already satisfied: widgetsnbextension~=3.6.0 in /usr/local/lib/python3.12/dist-packages (from ipywidgets>=7.5.0->lux-widget>=0.1.4->lux-api) (3.6.10)\n",
            "Requirement already satisfied: ipython>=4.0.0 in /usr/local/lib/python3.12/dist-packages (from ipywidgets>=7.5.0->lux-widget>=0.1.4->lux-api) (7.34.0)\n",
            "Requirement already satisfied: jupyterlab-widgets>=1.0.0 in /usr/local/lib/python3.12/dist-packages (from ipywidgets>=7.5.0->lux-widget>=0.1.4->lux-api) (3.0.15)\n",
            "Requirement already satisfied: attrs>=22.2.0 in /usr/local/lib/python3.12/dist-packages (from jsonschema>=3.0->altair>=4.0.0->lux-api) (25.4.0)\n",
            "Requirement already satisfied: jsonschema-specifications>=2023.03.6 in /usr/local/lib/python3.12/dist-packages (from jsonschema>=3.0->altair>=4.0.0->lux-api) (2025.9.1)\n",
            "Requirement already satisfied: referencing>=0.28.4 in /usr/local/lib/python3.12/dist-packages (from jsonschema>=3.0->altair>=4.0.0->lux-api) (0.37.0)\n",
            "Requirement already satisfied: rpds-py>=0.7.1 in /usr/local/lib/python3.12/dist-packages (from jsonschema>=3.0->altair>=4.0.0->lux-api) (0.27.1)\n",
            "Requirement already satisfied: tornado>=6.1 in /usr/local/lib/python3.12/dist-packages (from notebook>=4.0.0->lux-widget>=0.1.4->lux-api) (6.5.1)\n",
            "Requirement already satisfied: pyzmq>=17 in /usr/local/lib/python3.12/dist-packages (from notebook>=4.0.0->lux-widget>=0.1.4->lux-api) (26.2.1)\n",
            "Requirement already satisfied: argon2-cffi in /usr/local/lib/python3.12/dist-packages (from notebook>=4.0.0->lux-widget>=0.1.4->lux-api) (25.1.0)\n",
            "Requirement already satisfied: jupyter-core>=4.6.1 in /usr/local/lib/python3.12/dist-packages (from notebook>=4.0.0->lux-widget>=0.1.4->lux-api) (5.9.1)\n",
            "Requirement already satisfied: jupyter-client<8,>=5.3.4 in /usr/local/lib/python3.12/dist-packages (from notebook>=4.0.0->lux-widget>=0.1.4->lux-api) (7.4.9)\n",
            "Requirement already satisfied: nbformat in /usr/local/lib/python3.12/dist-packages (from notebook>=4.0.0->lux-widget>=0.1.4->lux-api) (5.10.4)\n",
            "Requirement already satisfied: nbconvert>=5 in /usr/local/lib/python3.12/dist-packages (from notebook>=4.0.0->lux-widget>=0.1.4->lux-api) (7.16.6)\n",
            "Requirement already satisfied: nest-asyncio>=1.5 in /usr/local/lib/python3.12/dist-packages (from notebook>=4.0.0->lux-widget>=0.1.4->lux-api) (1.6.0)\n",
            "Requirement already satisfied: Send2Trash>=1.8.0 in /usr/local/lib/python3.12/dist-packages (from notebook>=4.0.0->lux-widget>=0.1.4->lux-api) (1.8.3)\n",
            "Requirement already satisfied: terminado>=0.8.3 in /usr/local/lib/python3.12/dist-packages (from notebook>=4.0.0->lux-widget>=0.1.4->lux-api) (0.18.1)\n",
            "Requirement already satisfied: prometheus-client in /usr/local/lib/python3.12/dist-packages (from notebook>=4.0.0->lux-widget>=0.1.4->lux-api) (0.23.1)\n",
            "Requirement already satisfied: nbclassic>=0.4.7 in /usr/local/lib/python3.12/dist-packages (from notebook>=4.0.0->lux-widget>=0.1.4->lux-api) (1.3.3)\n",
            "Requirement already satisfied: MarkupSafe>=2.0 in /usr/local/lib/python3.12/dist-packages (from jinja2->altair>=4.0.0->lux-api) (3.0.3)\n",
            "Requirement already satisfied: debugpy>=1.0 in /usr/local/lib/python3.12/dist-packages (from ipykernel>=4.5.1->ipywidgets>=7.5.0->lux-widget>=0.1.4->lux-api) (1.8.15)\n",
            "Requirement already satisfied: matplotlib-inline>=0.1 in /usr/local/lib/python3.12/dist-packages (from ipykernel>=4.5.1->ipywidgets>=7.5.0->lux-widget>=0.1.4->lux-api) (0.1.7)\n",
            "Requirement already satisfied: setuptools>=18.5 in /usr/local/lib/python3.12/dist-packages (from ipython>=4.0.0->ipywidgets>=7.5.0->lux-widget>=0.1.4->lux-api) (75.2.0)\n",
            "Collecting jedi>=0.16 (from ipython>=4.0.0->ipywidgets>=7.5.0->lux-widget>=0.1.4->lux-api)\n",
            "  Downloading jedi-0.19.2-py2.py3-none-any.whl.metadata (22 kB)\n",
            "Requirement already satisfied: decorator in /usr/local/lib/python3.12/dist-packages (from ipython>=4.0.0->ipywidgets>=7.5.0->lux-widget>=0.1.4->lux-api) (4.4.2)\n",
            "Requirement already satisfied: pickleshare in /usr/local/lib/python3.12/dist-packages (from ipython>=4.0.0->ipywidgets>=7.5.0->lux-widget>=0.1.4->lux-api) (0.7.5)\n",
            "Requirement already satisfied: prompt-toolkit!=3.0.0,!=3.0.1,<3.1.0,>=2.0.0 in /usr/local/lib/python3.12/dist-packages (from ipython>=4.0.0->ipywidgets>=7.5.0->lux-widget>=0.1.4->lux-api) (3.0.52)\n",
            "Requirement already satisfied: pygments in /usr/local/lib/python3.12/dist-packages (from ipython>=4.0.0->ipywidgets>=7.5.0->lux-widget>=0.1.4->lux-api) (2.19.2)\n",
            "Requirement already satisfied: backcall in /usr/local/lib/python3.12/dist-packages (from ipython>=4.0.0->ipywidgets>=7.5.0->lux-widget>=0.1.4->lux-api) (0.2.0)\n",
            "Requirement already satisfied: pexpect>4.3 in /usr/local/lib/python3.12/dist-packages (from ipython>=4.0.0->ipywidgets>=7.5.0->lux-widget>=0.1.4->lux-api) (4.9.0)\n",
            "Requirement already satisfied: entrypoints in /usr/local/lib/python3.12/dist-packages (from jupyter-client<8,>=5.3.4->notebook>=4.0.0->lux-widget>=0.1.4->lux-api) (0.4)\n",
            "Requirement already satisfied: platformdirs>=2.5 in /usr/local/lib/python3.12/dist-packages (from jupyter-core>=4.6.1->notebook>=4.0.0->lux-widget>=0.1.4->lux-api) (4.5.0)\n",
            "Requirement already satisfied: notebook-shim>=0.2.3 in /usr/local/lib/python3.12/dist-packages (from nbclassic>=0.4.7->notebook>=4.0.0->lux-widget>=0.1.4->lux-api) (0.2.4)\n",
            "Requirement already satisfied: beautifulsoup4 in /usr/local/lib/python3.12/dist-packages (from nbconvert>=5->notebook>=4.0.0->lux-widget>=0.1.4->lux-api) (4.13.5)\n",
            "Requirement already satisfied: bleach!=5.0.0 in /usr/local/lib/python3.12/dist-packages (from bleach[css]!=5.0.0->nbconvert>=5->notebook>=4.0.0->lux-widget>=0.1.4->lux-api) (6.2.0)\n",
            "Requirement already satisfied: defusedxml in /usr/local/lib/python3.12/dist-packages (from nbconvert>=5->notebook>=4.0.0->lux-widget>=0.1.4->lux-api) (0.7.1)\n",
            "Requirement already satisfied: jupyterlab-pygments in /usr/local/lib/python3.12/dist-packages (from nbconvert>=5->notebook>=4.0.0->lux-widget>=0.1.4->lux-api) (0.3.0)\n",
            "Requirement already satisfied: mistune<4,>=2.0.3 in /usr/local/lib/python3.12/dist-packages (from nbconvert>=5->notebook>=4.0.0->lux-widget>=0.1.4->lux-api) (3.1.4)\n",
            "Requirement already satisfied: nbclient>=0.5.0 in /usr/local/lib/python3.12/dist-packages (from nbconvert>=5->notebook>=4.0.0->lux-widget>=0.1.4->lux-api) (0.10.2)\n",
            "Requirement already satisfied: pandocfilters>=1.4.1 in /usr/local/lib/python3.12/dist-packages (from nbconvert>=5->notebook>=4.0.0->lux-widget>=0.1.4->lux-api) (1.5.1)\n",
            "Requirement already satisfied: fastjsonschema>=2.15 in /usr/local/lib/python3.12/dist-packages (from nbformat->notebook>=4.0.0->lux-widget>=0.1.4->lux-api) (2.21.2)\n",
            "Requirement already satisfied: ptyprocess in /usr/local/lib/python3.12/dist-packages (from terminado>=0.8.3->notebook>=4.0.0->lux-widget>=0.1.4->lux-api) (0.7.0)\n",
            "Requirement already satisfied: argon2-cffi-bindings in /usr/local/lib/python3.12/dist-packages (from argon2-cffi->notebook>=4.0.0->lux-widget>=0.1.4->lux-api) (25.1.0)\n",
            "Requirement already satisfied: webencodings in /usr/local/lib/python3.12/dist-packages (from bleach!=5.0.0->bleach[css]!=5.0.0->nbconvert>=5->notebook>=4.0.0->lux-widget>=0.1.4->lux-api) (0.5.1)\n",
            "Requirement already satisfied: tinycss2<1.5,>=1.1.0 in /usr/local/lib/python3.12/dist-packages (from bleach[css]!=5.0.0->nbconvert>=5->notebook>=4.0.0->lux-widget>=0.1.4->lux-api) (1.4.0)\n",
            "Requirement already satisfied: parso<0.9.0,>=0.8.4 in /usr/local/lib/python3.12/dist-packages (from jedi>=0.16->ipython>=4.0.0->ipywidgets>=7.5.0->lux-widget>=0.1.4->lux-api) (0.8.5)\n",
            "Requirement already satisfied: jupyter-server<3,>=1.8 in /usr/local/lib/python3.12/dist-packages (from notebook-shim>=0.2.3->nbclassic>=0.4.7->notebook>=4.0.0->lux-widget>=0.1.4->lux-api) (2.14.0)\n",
            "Requirement already satisfied: wcwidth in /usr/local/lib/python3.12/dist-packages (from prompt-toolkit!=3.0.0,!=3.0.1,<3.1.0,>=2.0.0->ipython>=4.0.0->ipywidgets>=7.5.0->lux-widget>=0.1.4->lux-api) (0.2.14)\n",
            "Requirement already satisfied: cffi>=1.0.1 in /usr/local/lib/python3.12/dist-packages (from argon2-cffi-bindings->argon2-cffi->notebook>=4.0.0->lux-widget>=0.1.4->lux-api) (2.0.0)\n",
            "Requirement already satisfied: soupsieve>1.2 in /usr/local/lib/python3.12/dist-packages (from beautifulsoup4->nbconvert>=5->notebook>=4.0.0->lux-widget>=0.1.4->lux-api) (2.8)\n",
            "Requirement already satisfied: pycparser in /usr/local/lib/python3.12/dist-packages (from cffi>=1.0.1->argon2-cffi-bindings->argon2-cffi->notebook>=4.0.0->lux-widget>=0.1.4->lux-api) (2.23)\n",
            "Requirement already satisfied: anyio>=3.1.0 in /usr/local/lib/python3.12/dist-packages (from jupyter-server<3,>=1.8->notebook-shim>=0.2.3->nbclassic>=0.4.7->notebook>=4.0.0->lux-widget>=0.1.4->lux-api) (4.11.0)\n",
            "Requirement already satisfied: jupyter-events>=0.9.0 in /usr/local/lib/python3.12/dist-packages (from jupyter-server<3,>=1.8->notebook-shim>=0.2.3->nbclassic>=0.4.7->notebook>=4.0.0->lux-widget>=0.1.4->lux-api) (0.12.0)\n",
            "Requirement already satisfied: jupyter-server-terminals>=0.4.4 in /usr/local/lib/python3.12/dist-packages (from jupyter-server<3,>=1.8->notebook-shim>=0.2.3->nbclassic>=0.4.7->notebook>=4.0.0->lux-widget>=0.1.4->lux-api) (0.5.3)\n",
            "Requirement already satisfied: overrides>=5.0 in /usr/local/lib/python3.12/dist-packages (from jupyter-server<3,>=1.8->notebook-shim>=0.2.3->nbclassic>=0.4.7->notebook>=4.0.0->lux-widget>=0.1.4->lux-api) (7.7.0)\n",
            "Requirement already satisfied: websocket-client>=1.7 in /usr/local/lib/python3.12/dist-packages (from jupyter-server<3,>=1.8->notebook-shim>=0.2.3->nbclassic>=0.4.7->notebook>=4.0.0->lux-widget>=0.1.4->lux-api) (1.9.0)\n",
            "Requirement already satisfied: idna>=2.8 in /usr/local/lib/python3.12/dist-packages (from anyio>=3.1.0->jupyter-server<3,>=1.8->notebook-shim>=0.2.3->nbclassic>=0.4.7->notebook>=4.0.0->lux-widget>=0.1.4->lux-api) (3.11)\n",
            "Requirement already satisfied: sniffio>=1.1 in /usr/local/lib/python3.12/dist-packages (from anyio>=3.1.0->jupyter-server<3,>=1.8->notebook-shim>=0.2.3->nbclassic>=0.4.7->notebook>=4.0.0->lux-widget>=0.1.4->lux-api) (1.3.1)\n",
            "Requirement already satisfied: python-json-logger>=2.0.4 in /usr/local/lib/python3.12/dist-packages (from jupyter-events>=0.9.0->jupyter-server<3,>=1.8->notebook-shim>=0.2.3->nbclassic>=0.4.7->notebook>=4.0.0->lux-widget>=0.1.4->lux-api) (4.0.0)\n",
            "Requirement already satisfied: pyyaml>=5.3 in /usr/local/lib/python3.12/dist-packages (from jupyter-events>=0.9.0->jupyter-server<3,>=1.8->notebook-shim>=0.2.3->nbclassic>=0.4.7->notebook>=4.0.0->lux-widget>=0.1.4->lux-api) (6.0.3)\n",
            "Requirement already satisfied: rfc3339-validator in /usr/local/lib/python3.12/dist-packages (from jupyter-events>=0.9.0->jupyter-server<3,>=1.8->notebook-shim>=0.2.3->nbclassic>=0.4.7->notebook>=4.0.0->lux-widget>=0.1.4->lux-api) (0.1.4)\n",
            "Requirement already satisfied: rfc3986-validator>=0.1.1 in /usr/local/lib/python3.12/dist-packages (from jupyter-events>=0.9.0->jupyter-server<3,>=1.8->notebook-shim>=0.2.3->nbclassic>=0.4.7->notebook>=4.0.0->lux-widget>=0.1.4->lux-api) (0.1.1)\n",
            "Requirement already satisfied: fqdn in /usr/local/lib/python3.12/dist-packages (from jsonschema[format-nongpl]>=4.18.0->jupyter-events>=0.9.0->jupyter-server<3,>=1.8->notebook-shim>=0.2.3->nbclassic>=0.4.7->notebook>=4.0.0->lux-widget>=0.1.4->lux-api) (1.5.1)\n",
            "Requirement already satisfied: isoduration in /usr/local/lib/python3.12/dist-packages (from jsonschema[format-nongpl]>=4.18.0->jupyter-events>=0.9.0->jupyter-server<3,>=1.8->notebook-shim>=0.2.3->nbclassic>=0.4.7->notebook>=4.0.0->lux-widget>=0.1.4->lux-api) (20.11.0)\n",
            "Requirement already satisfied: jsonpointer>1.13 in /usr/local/lib/python3.12/dist-packages (from jsonschema[format-nongpl]>=4.18.0->jupyter-events>=0.9.0->jupyter-server<3,>=1.8->notebook-shim>=0.2.3->nbclassic>=0.4.7->notebook>=4.0.0->lux-widget>=0.1.4->lux-api) (3.0.0)\n",
            "Requirement already satisfied: rfc3987-syntax>=1.1.0 in /usr/local/lib/python3.12/dist-packages (from jsonschema[format-nongpl]>=4.18.0->jupyter-events>=0.9.0->jupyter-server<3,>=1.8->notebook-shim>=0.2.3->nbclassic>=0.4.7->notebook>=4.0.0->lux-widget>=0.1.4->lux-api) (1.1.0)\n",
            "Requirement already satisfied: uri-template in /usr/local/lib/python3.12/dist-packages (from jsonschema[format-nongpl]>=4.18.0->jupyter-events>=0.9.0->jupyter-server<3,>=1.8->notebook-shim>=0.2.3->nbclassic>=0.4.7->notebook>=4.0.0->lux-widget>=0.1.4->lux-api) (1.3.0)\n",
            "Requirement already satisfied: webcolors>=24.6.0 in /usr/local/lib/python3.12/dist-packages (from jsonschema[format-nongpl]>=4.18.0->jupyter-events>=0.9.0->jupyter-server<3,>=1.8->notebook-shim>=0.2.3->nbclassic>=0.4.7->notebook>=4.0.0->lux-widget>=0.1.4->lux-api) (24.11.1)\n",
            "Requirement already satisfied: lark>=1.2.2 in /usr/local/lib/python3.12/dist-packages (from rfc3987-syntax>=1.1.0->jsonschema[format-nongpl]>=4.18.0->jupyter-events>=0.9.0->jupyter-server<3,>=1.8->notebook-shim>=0.2.3->nbclassic>=0.4.7->notebook>=4.0.0->lux-widget>=0.1.4->lux-api) (1.3.0)\n",
            "Requirement already satisfied: arrow>=0.15.0 in /usr/local/lib/python3.12/dist-packages (from isoduration->jsonschema[format-nongpl]>=4.18.0->jupyter-events>=0.9.0->jupyter-server<3,>=1.8->notebook-shim>=0.2.3->nbclassic>=0.4.7->notebook>=4.0.0->lux-widget>=0.1.4->lux-api) (1.4.0)\n",
            "Downloading autopep8-2.3.2-py2.py3-none-any.whl (45 kB)\n",
            "\u001b[2K   \u001b[90m━━━━━━━━━━━━━━━━━━━━━━━━━━━━━━━━━━━━━━━━\u001b[0m \u001b[32m45.8/45.8 kB\u001b[0m \u001b[31m4.3 MB/s\u001b[0m eta \u001b[36m0:00:00\u001b[0m\n",
            "\u001b[?25hDownloading iso3166-2.1.1-py3-none-any.whl (9.8 kB)\n",
            "Downloading sh-2.2.2-py3-none-any.whl (38 kB)\n",
            "Downloading pycodestyle-2.14.0-py2.py3-none-any.whl (31 kB)\n",
            "Downloading jedi-0.19.2-py2.py3-none-any.whl (1.6 MB)\n",
            "\u001b[2K   \u001b[90m━━━━━━━━━━━━━━━━━━━━━━━━━━━━━━━━━━━━━━━━\u001b[0m \u001b[32m1.6/1.6 MB\u001b[0m \u001b[31m94.6 MB/s\u001b[0m eta \u001b[36m0:00:00\u001b[0m\n",
            "\u001b[?25hBuilding wheels for collected packages: lux-api, lux-widget\n",
            "  Building wheel for lux-api (pyproject.toml) ... \u001b[?25l\u001b[?25hdone\n",
            "  Created wheel for lux-api: filename=lux_api-0.5.1-py3-none-any.whl size=185712 sha256=5c97044cdc139f48c76c5fb85d1a0e398d2475cb57543f0a803686ba7f317625\n",
            "  Stored in directory: /root/.cache/pip/wheels/c4/96/d2/ffa7f6c489166338d6d66a644375d56e6d794b780f1bb671ac\n",
            "  Building wheel for lux-widget (setup.py) ... \u001b[?25l\u001b[?25hdone\n",
            "  Created wheel for lux-widget: filename=lux_widget-0.1.11-py3-none-any.whl size=2540453 sha256=e5a717d561f820d1017f1e2c629e99e8598c26c57a855d0966c50deca44e449e\n",
            "  Stored in directory: /root/.cache/pip/wheels/e3/52/42/3824e2f5f2d38ee1cb7d3e12ca7734e9930f44aac80d5ac533\n",
            "Successfully built lux-api lux-widget\n",
            "Installing collected packages: sh, pycodestyle, jedi, iso3166, autopep8, lux-widget, lux-api\n",
            "Successfully installed autopep8-2.3.2 iso3166-2.1.1 jedi-0.19.2 lux-api-0.5.1 lux-widget-0.1.11 pycodestyle-2.14.0 sh-2.2.2\n"
          ]
        }
      ],
      "source": [
        "!pip install lux-api plotly matplotlib"
      ]
    },
    {
      "cell_type": "code",
      "source": [
        "import pandas as pd\n",
        "import json\n",
        "import seaborn as sns\n",
        "import lux\n",
        "import plotly.express as px\n",
        "import matplotlib.pyplot as plt\n",
        "%matplotlib inline"
      ],
      "metadata": {
        "id": "k8w8cB1Yz1F5"
      },
      "execution_count": 2,
      "outputs": []
    },
    {
      "cell_type": "markdown",
      "source": [
        "**Data Profiling**\n",
        "\n",
        "Data profiling is the set of activities and processes designed to determine the metadata of a given dataset.\n",
        "\n",
        "Data profiling helps understand and prepare data for subsequent cleaning, integration, and analysis."
      ],
      "metadata": {
        "id": "jMdpMsoY0Drz"
      }
    },
    {
      "cell_type": "markdown",
      "source": [
        "**Import Data**"
      ],
      "metadata": {
        "id": "lMEpkhnV044G"
      }
    },
    {
      "cell_type": "code",
      "source": [
        "df = pd.read_csv('/content/drive/MyDrive/Data and Information Quality/met_museum_objects.txt')"
      ],
      "metadata": {
        "colab": {
          "base_uri": "https://localhost:8080/"
        },
        "id": "6eJtW2YP0B-_",
        "outputId": "e1f700fd-2580-48d0-be7a-a7416cbffe72"
      },
      "execution_count": 3,
      "outputs": [
        {
          "output_type": "stream",
          "name": "stderr",
          "text": [
            "/tmp/ipython-input-544127982.py:1: DtypeWarning: Columns (7,8,9,10,11,18,27,28,29,30,31,32,33,34,35,36,37,39) have mixed types. Specify dtype option on import or set low_memory=False.\n",
            "  df = pd.read_csv('/content/drive/MyDrive/Data and Information Quality/met_museum_objects.txt')\n"
          ]
        }
      ]
    },
    {
      "cell_type": "markdown",
      "source": [
        "**Profiling**"
      ],
      "metadata": {
        "id": "PP0tNs6j4hJS"
      }
    },
    {
      "cell_type": "code",
      "source": [
        "df.columns"
      ],
      "metadata": {
        "colab": {
          "base_uri": "https://localhost:8080/"
        },
        "id": "BhfsJ18mz5ft",
        "outputId": "b59ebde5-d0a1-4c14-cf5c-5deef01d934b"
      },
      "execution_count": 4,
      "outputs": [
        {
          "output_type": "execute_result",
          "data": {
            "text/plain": [
              "Index(['Object Number', 'Is Highlight', 'Is Public Domain', 'Object ID',\n",
              "       'Department', 'Object Name', 'Title', 'Culture', 'Period', 'Dynasty',\n",
              "       'Reign', 'Portfolio', 'Artist Role', 'Artist Prefix',\n",
              "       'Artist Display Name', 'Artist Display Bio', 'Artist Suffix',\n",
              "       'Artist Alpha Sort', 'Artist Nationality', 'Artist Begin Date',\n",
              "       'Artist End Date', 'Object Date', 'Object Begin Date',\n",
              "       'Object End Date', 'Medium', 'Dimensions', 'Credit Line',\n",
              "       'Geography Type', 'City', 'State', 'County', 'Country', 'Region',\n",
              "       'Subregion', 'Locale', 'Locus', 'Excavation', 'River', 'Classification',\n",
              "       'Rights and Reproduction', 'Link Resource', 'Metadata Date',\n",
              "       'Repository'],\n",
              "      dtype='object')"
            ]
          },
          "metadata": {},
          "execution_count": 4
        }
      ]
    },
    {
      "cell_type": "code",
      "source": [
        "df.shape"
      ],
      "metadata": {
        "colab": {
          "base_uri": "https://localhost:8080/"
        },
        "id": "MfWRGt7S48oZ",
        "outputId": "cec687f3-efb9-402c-f217-a8a34dec4df4"
      },
      "execution_count": 5,
      "outputs": [
        {
          "output_type": "execute_result",
          "data": {
            "text/plain": [
              "(448203, 43)"
            ]
          },
          "metadata": {},
          "execution_count": 5
        }
      ]
    },
    {
      "cell_type": "code",
      "source": [
        "df.dtypes"
      ],
      "metadata": {
        "colab": {
          "base_uri": "https://localhost:8080/"
        },
        "id": "Fd1CnHuD5GN4",
        "outputId": "d1db911f-1bc9-4fe5-f74e-043a478cf898"
      },
      "execution_count": 9,
      "outputs": [
        {
          "output_type": "stream",
          "name": "stdout",
          "text": [
            "Object Number              object\n",
            "Is Highlight                 bool\n",
            "Is Public Domain             bool\n",
            "Object ID                   int64\n",
            "Department                 object\n",
            "Object Name                object\n",
            "Title                      object\n",
            "Culture                    object\n",
            "Period                     object\n",
            "Dynasty                    object\n",
            "Reign                      object\n",
            "Portfolio                  object\n",
            "Artist Role                object\n",
            "Artist Prefix              object\n",
            "Artist Display Name        object\n",
            "Artist Display Bio         object\n",
            "Artist Suffix              object\n",
            "Artist Alpha Sort          object\n",
            "Artist Nationality         object\n",
            "Artist Begin Date          object\n",
            "Artist End Date            object\n",
            "Object Date                object\n",
            "Object Begin Date           int64\n",
            "Object End Date             int64\n",
            "Medium                     object\n",
            "Dimensions                 object\n",
            "Credit Line                object\n",
            "Geography Type             object\n",
            "City                       object\n",
            "State                      object\n",
            "County                     object\n",
            "Country                    object\n",
            "Region                     object\n",
            "Subregion                  object\n",
            "Locale                     object\n",
            "Locus                      object\n",
            "Excavation                 object\n",
            "River                      object\n",
            "Classification             object\n",
            "Rights and Reproduction    object\n",
            "Link Resource              object\n",
            "Metadata Date              object\n",
            "Repository                 object\n",
            "dtype: object\n"
          ]
        }
      ]
    },
    {
      "cell_type": "code",
      "source": [
        "#display numeric columns\n",
        "NUM = list(df.select_dtypes(include=['int64','float64']).columns)\n",
        "NUM"
      ],
      "metadata": {
        "colab": {
          "base_uri": "https://localhost:8080/"
        },
        "id": "o2UklgEc5p60",
        "outputId": "da3c14a3-c292-4f7c-dd34-7222010aba6d"
      },
      "execution_count": 10,
      "outputs": [
        {
          "output_type": "execute_result",
          "data": {
            "text/plain": [
              "['Object ID', 'Object Begin Date', 'Object End Date']"
            ]
          },
          "metadata": {},
          "execution_count": 10
        }
      ]
    },
    {
      "cell_type": "code",
      "source": [
        "#display categorical columns\n",
        "CAT = list(df.select_dtypes(include=['bool','object']).columns)\n",
        "CAT"
      ],
      "metadata": {
        "colab": {
          "base_uri": "https://localhost:8080/"
        },
        "id": "tClCpmSY7hgr",
        "outputId": "d3995c12-3d74-4555-9300-6b05bf4a78d2"
      },
      "execution_count": 11,
      "outputs": [
        {
          "output_type": "execute_result",
          "data": {
            "text/plain": [
              "['Object Number',\n",
              " 'Is Highlight',\n",
              " 'Is Public Domain',\n",
              " 'Department',\n",
              " 'Object Name',\n",
              " 'Title',\n",
              " 'Culture',\n",
              " 'Period',\n",
              " 'Dynasty',\n",
              " 'Reign',\n",
              " 'Portfolio',\n",
              " 'Artist Role',\n",
              " 'Artist Prefix',\n",
              " 'Artist Display Name',\n",
              " 'Artist Display Bio',\n",
              " 'Artist Suffix',\n",
              " 'Artist Alpha Sort',\n",
              " 'Artist Nationality',\n",
              " 'Artist Begin Date',\n",
              " 'Artist End Date',\n",
              " 'Object Date',\n",
              " 'Medium',\n",
              " 'Dimensions',\n",
              " 'Credit Line',\n",
              " 'Geography Type',\n",
              " 'City',\n",
              " 'State',\n",
              " 'County',\n",
              " 'Country',\n",
              " 'Region',\n",
              " 'Subregion',\n",
              " 'Locale',\n",
              " 'Locus',\n",
              " 'Excavation',\n",
              " 'River',\n",
              " 'Classification',\n",
              " 'Rights and Reproduction',\n",
              " 'Link Resource',\n",
              " 'Metadata Date',\n",
              " 'Repository']"
            ]
          },
          "metadata": {},
          "execution_count": 11
        }
      ]
    },
    {
      "cell_type": "markdown",
      "source": [
        "**SINGLE COLUMN ANALYSIS**\n",
        "Cardinalities\n",
        "\n",
        "Cardinalities are numbers that summarize simple metadata (e.g., number of rows, attributes, null values, distinct values, Uniqueness and Distinctness).\n",
        "\n",
        "Cardinality = count of the number of distinct actual values.\n",
        "\n",
        "Uniqueness = percentage calculated as Cardinality divided by the total number of records.\n",
        "\n",
        "Actual = count of the number of records with an actual value (i.e., not-null).\n",
        "\n",
        "Distinctness = percentage calculated as Cardinality divided by Actual.\n",
        "\n"
      ],
      "metadata": {
        "id": "zmDlQ5bO7ytM"
      }
    },
    {
      "cell_type": "code",
      "source": [
        "#len command counts the number of rows\n",
        "ROWS = len(df['Object ID'])\n",
        "ROWS"
      ],
      "metadata": {
        "colab": {
          "base_uri": "https://localhost:8080/"
        },
        "id": "m-mz16yF7yE1",
        "outputId": "abd38924-f5e0-4f1c-e082-76b09aca0cf2"
      },
      "execution_count": 12,
      "outputs": [
        {
          "output_type": "execute_result",
          "data": {
            "text/plain": [
              "448203"
            ]
          },
          "metadata": {},
          "execution_count": 12
        }
      ]
    },
    {
      "cell_type": "code",
      "source": [
        "#number of rows with shape function\n",
        "df.shape[0]"
      ],
      "metadata": {
        "colab": {
          "base_uri": "https://localhost:8080/"
        },
        "id": "TnEji8jE8gKC",
        "outputId": "f6703108-2854-4973-ad38-b12ecaf84a76"
      },
      "execution_count": 13,
      "outputs": [
        {
          "output_type": "execute_result",
          "data": {
            "text/plain": [
              "448203"
            ]
          },
          "metadata": {},
          "execution_count": 13
        }
      ]
    },
    {
      "cell_type": "code",
      "source": [
        "#number of columns with shape function\n",
        "df.shape[1]"
      ],
      "metadata": {
        "colab": {
          "base_uri": "https://localhost:8080/"
        },
        "id": "LspwWMVO8h_A",
        "outputId": "1fc6b97a-131d-409d-ed8d-33e13be70169"
      },
      "execution_count": 14,
      "outputs": [
        {
          "output_type": "execute_result",
          "data": {
            "text/plain": [
              "43"
            ]
          },
          "metadata": {},
          "execution_count": 14
        }
      ]
    },
    {
      "cell_type": "code",
      "source": [
        "CELLS = df.shape[0]*df.shape[1]\n",
        "CELLS"
      ],
      "metadata": {
        "colab": {
          "base_uri": "https://localhost:8080/"
        },
        "id": "Gv8BIDch9GTj",
        "outputId": "e57cda2e-325f-4404-f5bf-dd93a143271a"
      },
      "execution_count": 15,
      "outputs": [
        {
          "output_type": "execute_result",
          "data": {
            "text/plain": [
              "19272729"
            ]
          },
          "metadata": {},
          "execution_count": 15
        }
      ]
    },
    {
      "cell_type": "code",
      "source": [
        "#number of non—null observation in a column (attribute \"Object ID\")\n",
        "COUNT = df['Object ID'].count()\n",
        "COUNT"
      ],
      "metadata": {
        "colab": {
          "base_uri": "https://localhost:8080/"
        },
        "id": "bflNQgii9Pb5",
        "outputId": "69d5de96-2e8b-440c-9c36-c72b1cd55abe"
      },
      "execution_count": 17,
      "outputs": [
        {
          "output_type": "execute_result",
          "data": {
            "text/plain": [
              "np.int64(448203)"
            ]
          },
          "metadata": {},
          "execution_count": 17
        }
      ]
    },
    {
      "cell_type": "code",
      "source": [
        "#value counts is the same of a group by (attribute \"Object ID\")\n",
        "df['Object ID'].value_counts()"
      ],
      "metadata": {
        "colab": {
          "base_uri": "https://localhost:8080/",
          "height": 281,
          "referenced_widgets": [
            "44ab3914fab3459fbd53ff9838797940",
            "7fc71ae82764430aaaa77b5f5d62c098",
            "8706a68a74ca4160a4a8af9acc484e2f",
            "0de7637a3f4a4e2d877e01ba715453d2",
            "c50b8607591a420f804665be09f032c2"
          ]
        },
        "id": "xU8TiGHX9m2T",
        "outputId": "f0750461-d54d-4e52-c391-c18d6ee121b3"
      },
      "execution_count": 18,
      "outputs": [
        {
          "output_type": "display_data",
          "data": {
            "text/plain": [
              "Button(description='Toggle Pandas/Lux', layout=Layout(top='5px', width='140px'), style=ButtonStyle())"
            ],
            "application/vnd.jupyter.widget-view+json": {
              "version_major": 2,
              "version_minor": 0,
              "model_id": "44ab3914fab3459fbd53ff9838797940"
            }
          },
          "metadata": {}
        },
        {
          "output_type": "display_data",
          "data": {
            "text/plain": [
              "Output()"
            ],
            "application/vnd.jupyter.widget-view+json": {
              "version_major": 2,
              "version_minor": 0,
              "model_id": "0de7637a3f4a4e2d877e01ba715453d2"
            }
          },
          "metadata": {}
        }
      ]
    }
  ]
}
